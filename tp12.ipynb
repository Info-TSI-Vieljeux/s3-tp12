{
 "cells": [
  {
   "cell_type": "markdown",
   "id": "05794707",
   "metadata": {
    "nbgrader": {
     "grade": false,
     "grade_id": "cell-d88c6698bc734f66",
     "locked": true,
     "schema_version": 3,
     "solution": false,
     "task": false
    }
   },
   "source": [
    "# TP 12 : Bases de données"
   ]
  },
  {
   "cell_type": "markdown",
   "id": "58044064",
   "metadata": {
    "nbgrader": {
     "grade": false,
     "grade_id": "cell-2047dfaac44323e0",
     "locked": true,
     "schema_version": 3,
     "solution": false,
     "task": false
    }
   },
   "source": [
    "On va utiliser python dans ce tp pout accéder aux bases de données, mais de manière la plus transparente possible.\n",
    "\n",
    "Commençons par charger une extension ipython permettant de se connecter à une base de données et d'interagir avec en SQL."
   ]
  },
  {
   "cell_type": "code",
   "execution_count": 1,
   "id": "89f2bbe7",
   "metadata": {
    "scrolled": true
   },
   "outputs": [],
   "source": [
    "%load_ext sql"
   ]
  },
  {
   "cell_type": "markdown",
   "id": "966bc872",
   "metadata": {},
   "source": [
    "Connectons-nous à la base `Population.db` pour tester quelques exemples du cours."
   ]
  },
  {
   "cell_type": "code",
   "execution_count": 2,
   "id": "742082d2",
   "metadata": {},
   "outputs": [
    {
     "data": {
      "text/plain": [
       "'Connected: @Population.db'"
      ]
     },
     "execution_count": 2,
     "metadata": {},
     "output_type": "execute_result"
    }
   ],
   "source": [
    "%sql sqlite:///Population.db"
   ]
  },
  {
   "cell_type": "markdown",
   "id": "319b166e",
   "metadata": {},
   "source": [
    "Dorénavent, il suffit de débuter chaque cellule par la commande magique `%%SQL` et décrire en dessous vos requêtes SQL."
   ]
  },
  {
   "cell_type": "code",
   "execution_count": 5,
   "id": "6ae86343",
   "metadata": {},
   "outputs": [
    {
     "name": "stdout",
     "output_type": "stream",
     "text": [
      " * sqlite:///Population.db\n",
      "Done.\n"
     ]
    },
    {
     "data": {
      "text/html": [
       "<table>\n",
       "    <thead>\n",
       "        <tr>\n",
       "            <th>CODREG</th>\n",
       "            <th>CODDEP</th>\n",
       "            <th>CODCOM</th>\n",
       "            <th>COM</th>\n",
       "            <th>POP</th>\n",
       "        </tr>\n",
       "    </thead>\n",
       "    <tbody>\n",
       "        <tr>\n",
       "            <td>84</td>\n",
       "            <td>01</td>\n",
       "            <td>1</td>\n",
       "            <td>L&#x27;Abergement-Clémenciat</td>\n",
       "            <td>798</td>\n",
       "        </tr>\n",
       "        <tr>\n",
       "            <td>84</td>\n",
       "            <td>01</td>\n",
       "            <td>2</td>\n",
       "            <td>L&#x27;Abergement-de-Varey</td>\n",
       "            <td>257</td>\n",
       "        </tr>\n",
       "        <tr>\n",
       "            <td>84</td>\n",
       "            <td>01</td>\n",
       "            <td>4</td>\n",
       "            <td>Ambérieu-en-Bugey</td>\n",
       "            <td>14514</td>\n",
       "        </tr>\n",
       "        <tr>\n",
       "            <td>84</td>\n",
       "            <td>01</td>\n",
       "            <td>5</td>\n",
       "            <td>Ambérieux-en-Dombes</td>\n",
       "            <td>1776</td>\n",
       "        </tr>\n",
       "        <tr>\n",
       "            <td>84</td>\n",
       "            <td>01</td>\n",
       "            <td>6</td>\n",
       "            <td>Ambléon</td>\n",
       "            <td>118</td>\n",
       "        </tr>\n",
       "        <tr>\n",
       "            <td>84</td>\n",
       "            <td>01</td>\n",
       "            <td>7</td>\n",
       "            <td>Ambronay</td>\n",
       "            <td>2915</td>\n",
       "        </tr>\n",
       "        <tr>\n",
       "            <td>84</td>\n",
       "            <td>01</td>\n",
       "            <td>8</td>\n",
       "            <td>Ambutrix</td>\n",
       "            <td>777</td>\n",
       "        </tr>\n",
       "        <tr>\n",
       "            <td>84</td>\n",
       "            <td>01</td>\n",
       "            <td>9</td>\n",
       "            <td>Andert-et-Condon</td>\n",
       "            <td>335</td>\n",
       "        </tr>\n",
       "        <tr>\n",
       "            <td>84</td>\n",
       "            <td>01</td>\n",
       "            <td>10</td>\n",
       "            <td>Anglefort</td>\n",
       "            <td>1122</td>\n",
       "        </tr>\n",
       "        <tr>\n",
       "            <td>84</td>\n",
       "            <td>01</td>\n",
       "            <td>11</td>\n",
       "            <td>Apremont</td>\n",
       "            <td>379</td>\n",
       "        </tr>\n",
       "    </tbody>\n",
       "</table>"
      ],
      "text/plain": [
       "[(84, '01', 1, \"L'Abergement-Clémenciat\", 798),\n",
       " (84, '01', 2, \"L'Abergement-de-Varey\", 257),\n",
       " (84, '01', 4, 'Ambérieu-en-Bugey', 14514),\n",
       " (84, '01', 5, 'Ambérieux-en-Dombes', 1776),\n",
       " (84, '01', 6, 'Ambléon', 118),\n",
       " (84, '01', 7, 'Ambronay', 2915),\n",
       " (84, '01', 8, 'Ambutrix', 777),\n",
       " (84, '01', 9, 'Andert-et-Condon', 335),\n",
       " (84, '01', 10, 'Anglefort', 1122),\n",
       " (84, '01', 11, 'Apremont', 379)]"
      ]
     },
     "execution_count": 5,
     "metadata": {},
     "output_type": "execute_result"
    }
   ],
   "source": [
    "%%sql\n",
    "\n",
    "SELECT *\n",
    "FROM Communes\n",
    "LIMIT 10;"
   ]
  },
  {
   "cell_type": "code",
   "execution_count": null,
   "id": "3eb862a6",
   "metadata": {},
   "outputs": [],
   "source": []
  }
 ],
 "metadata": {
  "celltoolbar": "Create Assignment",
  "kernelspec": {
   "display_name": "Python 3",
   "language": "python",
   "name": "python3"
  },
  "language_info": {
   "codemirror_mode": {
    "name": "ipython",
    "version": 3
   },
   "file_extension": ".py",
   "mimetype": "text/x-python",
   "name": "python",
   "nbconvert_exporter": "python",
   "pygments_lexer": "ipython3",
   "version": "3.8.13"
  }
 },
 "nbformat": 4,
 "nbformat_minor": 5
}
