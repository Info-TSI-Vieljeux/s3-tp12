{
 "cells": [
  {
   "cell_type": "markdown",
   "id": "3c9f33fc",
   "metadata": {},
   "source": [
    ">Ouvrir le notebook dans Colab en modifiant le début de son adresse dans le navigateur :<br>\n",
    "il faut remplacer **github.com** par **githubtocolab.com**.<br>\n",
    "Une fois vos réponses apportées, le notebook devra être sauvegardé dans GitHub, dans le repository du TP :<br>\n",
    "*Fichier > Enregistrer une copie dans Github*<br>\n",
    "*Info-TSI-Vieljeux/tpx-votre_nom*<br>\n",
    "\n",
    "---"
   ]
  },
  {
   "cell_type": "markdown",
   "id": "a49a7e30",
   "metadata": {
    "deletable": false,
    "editable": false,
    "nbgrader": {
     "cell_type": "markdown",
     "checksum": "cd546a54f2eceaa301ea01c62ecfddc0",
     "grade": false,
     "grade_id": "cell-d88c6698bc734f66",
     "locked": true,
     "schema_version": 3,
     "solution": false,
     "task": false
    }
   },
   "source": [
    "# TP 12 : Bases de données"
   ]
  },
  {
   "cell_type": "markdown",
   "id": "68bba8a7",
   "metadata": {
    "deletable": false,
    "editable": false,
    "nbgrader": {
     "cell_type": "markdown",
     "checksum": "bca51b39af41fb524a92774a6c54f234",
     "grade": false,
     "grade_id": "cell-2047dfaac44323e0",
     "locked": true,
     "schema_version": 3,
     "solution": false,
     "task": false
    }
   },
   "source": [
    "On va utiliser python dans ce tp pout accéder aux bases de données, mais de manière la plus transparente possible.\n",
    "\n",
    "Commençons par cloner le repository Github source dans l'instance Colab."
   ]
  },
  {
   "cell_type": "code",
   "execution_count": null,
   "id": "9986c3d2",
   "metadata": {},
   "outputs": [],
   "source": [
    "!git clone https://github.com/Info-TSI-Vieljeux/s3-tp12"
   ]
  },
  {
   "cell_type": "markdown",
   "id": "965245ed",
   "metadata": {
    "deletable": false,
    "editable": false,
    "nbgrader": {
     "cell_type": "markdown",
     "checksum": "2ac47ce4a2696b279df3e0cdf4978e41",
     "grade": false,
     "grade_id": "cell-aa69dae9f39fc8ad",
     "locked": true,
     "schema_version": 3,
     "solution": false,
     "task": false
    }
   },
   "source": [
    "Puis, chargeons une extension ipython permettant de se connecter à une base de données et d'interagir avec en SQL."
   ]
  },
  {
   "cell_type": "code",
   "execution_count": null,
   "id": "6d10b3d3",
   "metadata": {},
   "outputs": [],
   "source": [
    "%load_ext sql"
   ]
  },
  {
   "cell_type": "markdown",
   "id": "6b9074b5",
   "metadata": {
    "deletable": false,
    "editable": false,
    "nbgrader": {
     "cell_type": "markdown",
     "checksum": "e16e44ce17216827661c51fc773c1690",
     "grade": false,
     "grade_id": "cell-9181376c3ae23c10",
     "locked": true,
     "schema_version": 3,
     "solution": false,
     "task": false
    }
   },
   "source": [
    "Connectons-nous à la base `Population.db` pour pouvoir tester les exemples du cours et pour quelques questions."
   ]
  },
  {
   "cell_type": "code",
   "execution_count": null,
   "id": "d8fac20f",
   "metadata": {},
   "outputs": [],
   "source": [
    "%sql sqlite:///s3-tp12/Population.db"
   ]
  },
  {
   "cell_type": "markdown",
   "id": "b9d50e95",
   "metadata": {
    "deletable": false,
    "editable": false,
    "nbgrader": {
     "cell_type": "markdown",
     "checksum": "ce2c6fc4915395729212d2b4627d07a3",
     "grade": false,
     "grade_id": "cell-16ac51f47067f17a",
     "locked": true,
     "schema_version": 3,
     "solution": false,
     "task": false
    }
   },
   "source": [
    "Dorénavent, il suffit de débuter chaque cellule par la commande magique `%%sql` et d'écrire en dessous vos requêtes SQL. En ajoutant `resultats <<` à la ligne introductive, on stocke le résultat de la requête dans la variable `resultats`."
   ]
  },
  {
   "cell_type": "code",
   "execution_count": null,
   "id": "c77f9b80",
   "metadata": {},
   "outputs": [],
   "source": [
    "%%sql resultats <<\n",
    "\n",
    "SELECT *\n",
    "FROM Communes\n",
    "LIMIT 10;"
   ]
  },
  {
   "cell_type": "markdown",
   "id": "c18de47f",
   "metadata": {
    "deletable": false,
    "editable": false,
    "nbgrader": {
     "cell_type": "markdown",
     "checksum": "2de97ec3c01d209d346ec13cfb6dacb4",
     "grade": false,
     "grade_id": "cell-0dce2a614d4691cf",
     "locked": true,
     "schema_version": 3,
     "solution": false,
     "task": false
    }
   },
   "source": [
    "Pour afficher les résultats, il suffit d'exécuter `resultats`&nbsp;:"
   ]
  },
  {
   "cell_type": "code",
   "execution_count": null,
   "id": "00b1d0c6",
   "metadata": {},
   "outputs": [],
   "source": [
    "resultats"
   ]
  },
  {
   "cell_type": "markdown",
   "id": "1989f367",
   "metadata": {
    "deletable": false,
    "editable": false,
    "nbgrader": {
     "cell_type": "markdown",
     "checksum": "2f96c850da50551ee9e4baa2950b9c5c",
     "grade": false,
     "grade_id": "cell-a1fc51236f0964c6",
     "locked": true,
     "schema_version": 3,
     "solution": false,
     "task": false
    }
   },
   "source": [
    "Écrivez une requête affichant le numéro des départements contenant au moins une commune de plus de $100\\,000$ habitants ainsi que le nom de ces communes.<br>\n",
    "Vous débuterez votre cellule par `%%sql res1 <<`&nbsp;!"
   ]
  },
  {
   "cell_type": "code",
   "execution_count": null,
   "id": "fb8a483a",
   "metadata": {
    "deletable": false,
    "nbgrader": {
     "cell_type": "code",
     "checksum": "7b6dca29cc05c76934a59f93e0aa6704",
     "grade": false,
     "grade_id": "cell-ea26888d0a7d5c30",
     "locked": false,
     "schema_version": 3,
     "solution": true,
     "task": false
    }
   },
   "outputs": [],
   "source": [
    "# VOTRE CODE"
   ]
  },
  {
   "cell_type": "code",
   "execution_count": null,
   "id": "bdee45c6",
   "metadata": {
    "deletable": false,
    "editable": false,
    "nbgrader": {
     "cell_type": "code",
     "checksum": "6f8fff750c505d26f9bfcc2eadc46498",
     "grade": true,
     "grade_id": "cell-1df7941e3cd2574c",
     "locked": true,
     "points": 1,
     "schema_version": 3,
     "solution": false,
     "task": false
    }
   },
   "outputs": [],
   "source": [
    "# Cellule d'évaluation, ne pas modifier"
   ]
  },
  {
   "cell_type": "markdown",
   "id": "9b5ad079",
   "metadata": {
    "deletable": false,
    "editable": false,
    "nbgrader": {
     "cell_type": "markdown",
     "checksum": "a8058de8e43426f8a9564e26fbba519d",
     "grade": false,
     "grade_id": "cell-d937e5e38d456a71",
     "locked": true,
     "schema_version": 3,
     "solution": false,
     "task": false
    }
   },
   "source": [
    "Écrivez maintenant une requête permettant d'obtenir la liste des noms de chaque département associés au nombre de communes qu'ils contiennent, en triant de manière décroissante selon le nombre de communes par département.<br>\n",
    "Vous débuterez la cellule par la commande `%%sql res2 <<`."
   ]
  },
  {
   "cell_type": "code",
   "execution_count": null,
   "id": "79873157",
   "metadata": {
    "deletable": false,
    "nbgrader": {
     "cell_type": "code",
     "checksum": "6ae80d844a0c39911d0c3345b561d553",
     "grade": false,
     "grade_id": "cell-752a317044482ebe",
     "locked": false,
     "schema_version": 3,
     "solution": true,
     "task": false
    }
   },
   "outputs": [],
   "source": [
    "# VOTRE CODE"
   ]
  },
  {
   "cell_type": "code",
   "execution_count": null,
   "id": "fa215414",
   "metadata": {
    "deletable": false,
    "editable": false,
    "nbgrader": {
     "cell_type": "code",
     "checksum": "641fe8b30bf8c7e002f2e5f480fa7daf",
     "grade": true,
     "grade_id": "cell-85495a851d3565c1",
     "locked": true,
     "points": 1,
     "schema_version": 3,
     "solution": false,
     "task": false
    }
   },
   "outputs": [],
   "source": [
    "# Cellule d'évaluation, ne pas modifier"
   ]
  },
  {
   "cell_type": "markdown",
   "id": "0e5e4b98",
   "metadata": {
    "deletable": false,
    "editable": false,
    "nbgrader": {
     "cell_type": "markdown",
     "checksum": "0ee210b057ff66e1abd2c99de2e41c95",
     "grade": false,
     "grade_id": "cell-31379c9b851b3d1f",
     "locked": true,
     "schema_version": 3,
     "solution": false,
     "task": false
    }
   },
   "source": [
    "Écrivez ensuite une requête permettant d'obtenir la liste des noms de communes donnés plusieurs fois associés au nombre de fois où ils sont répétés, nombre que l'on rebaptisera `NB_REDOND`. La liste ne devra contenir que les noms donnés au moins 10 fois.<br>\n",
    "Vous débuterez la cellule par la commande `%%sql res3 <<`."
   ]
  },
  {
   "cell_type": "code",
   "execution_count": null,
   "id": "a4feb045",
   "metadata": {
    "deletable": false,
    "nbgrader": {
     "cell_type": "code",
     "checksum": "6a9b0d5c0e877b0e0f9808f315270f47",
     "grade": false,
     "grade_id": "cell-b226442b1b8bc90a",
     "locked": false,
     "schema_version": 3,
     "solution": true,
     "task": false
    }
   },
   "outputs": [],
   "source": [
    "# VOTRE CODE"
   ]
  },
  {
   "cell_type": "code",
   "execution_count": null,
   "id": "552629e8",
   "metadata": {
    "deletable": false,
    "editable": false,
    "nbgrader": {
     "cell_type": "code",
     "checksum": "242893a173a028384a1c5c5d32f1f881",
     "grade": true,
     "grade_id": "cell-cfef5d8dbbc95099",
     "locked": true,
     "points": 2,
     "schema_version": 3,
     "solution": false,
     "task": false
    }
   },
   "outputs": [],
   "source": [
    "# Cellule d'évaluation, ne pas modifier"
   ]
  },
  {
   "cell_type": "markdown",
   "id": "af7389fa",
   "metadata": {
    "deletable": false,
    "editable": false,
    "nbgrader": {
     "cell_type": "markdown",
     "checksum": "1deaf0cfd600fbe930b49f140ee03679",
     "grade": false,
     "grade_id": "cell-8a6029e9965460e5",
     "locked": true,
     "schema_version": 3,
     "solution": false,
     "task": false
    }
   },
   "source": [
    "Écrivez une requête donnant le nom d'une ville, ici 'La Rochelle', le nom du département auquel elle appartient, et le nom de la région auquelle elle appartient."
   ]
  },
  {
   "cell_type": "code",
   "execution_count": null,
   "id": "cec73509",
   "metadata": {
    "deletable": false,
    "nbgrader": {
     "cell_type": "code",
     "checksum": "c1372e602a111f02db027a252dd1408a",
     "grade": false,
     "grade_id": "cell-ea09c4c9970b0b6f",
     "locked": false,
     "schema_version": 3,
     "solution": true,
     "task": false
    }
   },
   "outputs": [],
   "source": [
    "# VOTRE CODE"
   ]
  },
  {
   "cell_type": "code",
   "execution_count": null,
   "id": "55be582d",
   "metadata": {
    "deletable": false,
    "editable": false,
    "nbgrader": {
     "cell_type": "code",
     "checksum": "78bf9a90829019f44b551156de1f9a25",
     "grade": true,
     "grade_id": "cell-2ed6cbbb80e7469b",
     "locked": true,
     "points": 2,
     "schema_version": 3,
     "solution": false,
     "task": false
    }
   },
   "outputs": [],
   "source": [
    "# Cellule d'évaluation, ne pas modifier"
   ]
  },
  {
   "cell_type": "markdown",
   "id": "07386012",
   "metadata": {
    "deletable": false,
    "editable": false,
    "nbgrader": {
     "cell_type": "markdown",
     "checksum": "8fa45656279369cde67c78c7e460acb7",
     "grade": false,
     "grade_id": "cell-852ca16f56b24d5e",
     "locked": true,
     "schema_version": 3,
     "solution": false,
     "task": false
    }
   },
   "source": [
    "Écrivez enfin une requête donnant le nom du département Charente-Maritime, sa population, le nombre de communes qu'il contient, le nom de la commune la plus peuplée et sa population ainsi que le nom de la commune la moins peuplée et sa population.<br>\n",
    "Vous débuterez la cellule par la commande `%%sql res4 <<`."
   ]
  },
  {
   "cell_type": "code",
   "execution_count": null,
   "id": "1c2d803b",
   "metadata": {
    "deletable": false,
    "nbgrader": {
     "cell_type": "code",
     "checksum": "e74ed2f1af85d3627313cd4c4ab3acf7",
     "grade": false,
     "grade_id": "cell-e29b1636094b7357",
     "locked": false,
     "schema_version": 3,
     "solution": true,
     "task": false
    }
   },
   "outputs": [],
   "source": [
    "# VOTRE CODE"
   ]
  },
  {
   "cell_type": "code",
   "execution_count": null,
   "id": "da4a3381",
   "metadata": {
    "deletable": false,
    "editable": false,
    "nbgrader": {
     "cell_type": "code",
     "checksum": "b628273370b5019fc66c4060b3bf9134",
     "grade": true,
     "grade_id": "cell-94f5a710a5815c66",
     "locked": true,
     "points": 3,
     "schema_version": 3,
     "solution": false,
     "task": false
    }
   },
   "outputs": [],
   "source": [
    "# Cellule d'évaluation, ne pas modifier"
   ]
  },
  {
   "cell_type": "markdown",
   "id": "9568e80f",
   "metadata": {
    "deletable": false,
    "editable": false,
    "nbgrader": {
     "cell_type": "markdown",
     "checksum": "6a396ecd48b95fa5a1288097f6e9d110",
     "grade": false,
     "grade_id": "cell-6fcf6c00007b455c",
     "locked": true,
     "schema_version": 3,
     "solution": false,
     "task": false
    }
   },
   "source": [
    "Changeons maintenant de base de données pour une qui a eu les  honneurs de l'épreuve Centrale 2022.<br>\n",
    "Vous trouverez ci-dessous deux extraits du sujet&nbsp;: d'abord l'introduction générale de l'épreuve puis la présentation de la base."
   ]
  },
  {
   "cell_type": "markdown",
   "id": "7a3bb018",
   "metadata": {
    "deletable": false,
    "editable": false,
    "nbgrader": {
     "cell_type": "markdown",
     "checksum": "777b29cfa458fe975eef4336fa1fe9a0",
     "grade": false,
     "grade_id": "cell-6820e5af3fb8d841",
     "locked": true,
     "schema_version": 3,
     "solution": false,
     "task": false
    }
   },
   "source": [
    "![](https://info-tsi-vieljeux.github.io/incipitcentrale2022.pdf)"
   ]
  },
  {
   "cell_type": "markdown",
   "id": "5c6c5eee",
   "metadata": {
    "deletable": false,
    "editable": false,
    "nbgrader": {
     "cell_type": "markdown",
     "checksum": "139446d6e60070c9079c6232c894d3e9",
     "grade": false,
     "grade_id": "cell-3e4f10582e541b93",
     "locked": true,
     "schema_version": 3,
     "solution": false,
     "task": false
    }
   },
   "source": [
    "![](https://info-tsi-vieljeux.github.io/basef1centrale.pdf)"
   ]
  },
  {
   "cell_type": "markdown",
   "id": "7a3c579f",
   "metadata": {
    "deletable": false,
    "editable": false,
    "nbgrader": {
     "cell_type": "markdown",
     "checksum": "69bd7ff18ac38cee0dfe72934800c7fd",
     "grade": false,
     "grade_id": "cell-efd840082d2dd532",
     "locked": true,
     "schema_version": 3,
     "solution": false,
     "task": false
    }
   },
   "source": [
    "Petite modification, `to_temps` est en ms dans la base qu'on va utiliser."
   ]
  },
  {
   "cell_type": "markdown",
   "id": "3dc5d792",
   "metadata": {
    "deletable": false,
    "editable": false,
    "nbgrader": {
     "cell_type": "markdown",
     "checksum": "243aaa540913a9a664f33cc98d4043da",
     "grade": false,
     "grade_id": "cell-918ba98aaeabc49e",
     "locked": true,
     "schema_version": 3,
     "solution": false,
     "task": false
    }
   },
   "source": [
    "Les questions qui suivent sont adaptées du sujet 2022."
   ]
  },
  {
   "cell_type": "markdown",
   "id": "caa7e5b6",
   "metadata": {
    "deletable": false,
    "editable": false,
    "nbgrader": {
     "cell_type": "markdown",
     "checksum": "7e41b0bca8ba644ddb44fce9d212be43",
     "grade": false,
     "grade_id": "cell-0afb1b855c3dc08b",
     "locked": true,
     "schema_version": 3,
     "solution": false,
     "task": false
    }
   },
   "source": [
    "Pourquoi avoir utilisé la colonne `pi_id` comme clef primaire de la table pilote et pas la colonne `pi_nom` ?\n",
    "- a : il peut y avoir des noms identiques.\n",
    "- b : une clé primaire est forcément constitué d'entiers.\n",
    "- c : pi_nom est une clé étrangère renvoyant à la table `circuit`."
   ]
  },
  {
   "cell_type": "code",
   "execution_count": null,
   "id": "f7f240e0",
   "metadata": {},
   "outputs": [],
   "source": [
    "# Affecter à la variable rep1 la réponse sous la forme d'une des 3 chaîne de caractères suivantes : 'a', 'b' ou 'c'\n",
    "rep1 = 'd'"
   ]
  },
  {
   "cell_type": "code",
   "execution_count": null,
   "id": "c5891927",
   "metadata": {
    "deletable": false,
    "editable": false,
    "nbgrader": {
     "cell_type": "code",
     "checksum": "f2e4e800296067de128dc3508ca1fce6",
     "grade": true,
     "grade_id": "cell-3bc5bde92081fb2d",
     "locked": true,
     "points": 1,
     "schema_version": 3,
     "solution": false,
     "task": false
    }
   },
   "outputs": [],
   "source": [
    "# Cellule d'évaluation, ne pas modifier\n"
   ]
  },
  {
   "cell_type": "markdown",
   "id": "43a854b5",
   "metadata": {
    "deletable": false,
    "editable": false,
    "nbgrader": {
     "cell_type": "markdown",
     "checksum": "ab253f560a1171e4007ede030837592a",
     "grade": false,
     "grade_id": "cell-2e048a1caa930b5a",
     "locked": true,
     "schema_version": 3,
     "solution": false,
     "task": false
    }
   },
   "source": [
    "Estimez le nombre de lignes de la table `Tour`d'après les informations données dans l'énoncé du concours&nbsp;:"
   ]
  },
  {
   "cell_type": "code",
   "execution_count": null,
   "id": "9e8b5230",
   "metadata": {},
   "outputs": [],
   "source": [
    "# Affecter à la variable rep2 la réponse sous la forme d'un entier\n",
    "# Ajouter en commentaires une justification\n",
    "rep2 = 0"
   ]
  },
  {
   "cell_type": "code",
   "execution_count": null,
   "id": "4bdd1886",
   "metadata": {
    "deletable": false,
    "editable": false,
    "nbgrader": {
     "cell_type": "code",
     "checksum": "54dcb9a910a9e61f6de3f415ec4d5c8b",
     "grade": true,
     "grade_id": "cell-ba739c566f2be079",
     "locked": true,
     "points": 1,
     "schema_version": 3,
     "solution": false,
     "task": false
    }
   },
   "outputs": [],
   "source": [
    "# Cellule d'évaluation, ne pas modifier\n"
   ]
  },
  {
   "cell_type": "markdown",
   "id": "a4b1ce08",
   "metadata": {
    "deletable": false,
    "editable": false,
    "nbgrader": {
     "cell_type": "markdown",
     "checksum": "ba013314ff470d713a1d246248cc0ac5",
     "grade": false,
     "grade_id": "cell-416eb23580194a9e",
     "locked": true,
     "schema_version": 3,
     "solution": false,
     "task": false
    }
   },
   "source": [
    "Connectons-nous à la base&nbsp;:"
   ]
  },
  {
   "cell_type": "code",
   "execution_count": null,
   "id": "fb64a5de",
   "metadata": {},
   "outputs": [],
   "source": [
    "%load_ext sql"
   ]
  },
  {
   "cell_type": "code",
   "execution_count": null,
   "id": "205f1119",
   "metadata": {},
   "outputs": [],
   "source": [
    "%sql sqlite:///s3-tp12/F1.db"
   ]
  },
  {
   "cell_type": "markdown",
   "id": "b1a751d8",
   "metadata": {
    "deletable": false,
    "editable": false,
    "nbgrader": {
     "cell_type": "markdown",
     "checksum": "06baa865f54339887f773275f12e4914",
     "grade": false,
     "grade_id": "cell-edcc35789b81da94",
     "locked": true,
     "schema_version": 3,
     "solution": false,
     "task": false
    }
   },
   "source": [
    "Écrire une requête SQL qui liste, par ordre chronologique, la date et le nom du circuit de toutes les courses qui se sont déroulées en France (`ci_pays` = `'France'`).<br>\n",
    "Vous débuterez la cellule par la commande `%%sql rep3 <<`."
   ]
  },
  {
   "cell_type": "code",
   "execution_count": null,
   "id": "12029855",
   "metadata": {
    "deletable": false,
    "nbgrader": {
     "cell_type": "code",
     "checksum": "7c6a56a0ace471619f60fac0dbd87fe4",
     "grade": false,
     "grade_id": "cell-3a2a5037cf004dcc",
     "locked": false,
     "schema_version": 3,
     "solution": true,
     "task": false
    }
   },
   "outputs": [],
   "source": [
    "# VOTRE CODE"
   ]
  },
  {
   "cell_type": "code",
   "execution_count": null,
   "id": "dd2ef64e",
   "metadata": {
    "deletable": false,
    "editable": false,
    "nbgrader": {
     "cell_type": "code",
     "checksum": "cebef21a87145ce4130346eb435ec88b",
     "grade": true,
     "grade_id": "cell-f7e4efb811d28bff",
     "locked": true,
     "points": 2,
     "schema_version": 3,
     "solution": false,
     "task": false
    }
   },
   "outputs": [],
   "source": [
    "# Cellule d'évaluation, ne pas modifier"
   ]
  },
  {
   "cell_type": "markdown",
   "id": "ab3c1950",
   "metadata": {
    "deletable": false,
    "editable": false,
    "nbgrader": {
     "cell_type": "markdown",
     "checksum": "417221778e46971ae261acbce7491a84",
     "grade": false,
     "grade_id": "cell-aff575348801c9d8",
     "locked": true,
     "schema_version": 3,
     "solution": false,
     "task": false
    }
   },
   "source": [
    "Écrire une requête SQL qui liste, pour chaque course de l’année 2021, le nom du circuit, le nom du pilote gagnant et son temps de course (dans cet ordre).<br>\n",
    "Vous débuterez la cellule par la commande `%%sql rep4 <<`."
   ]
  },
  {
   "cell_type": "code",
   "execution_count": null,
   "id": "2baedfda",
   "metadata": {
    "deletable": false,
    "nbgrader": {
     "cell_type": "code",
     "checksum": "60b1b60a7581c9d400ab0720452ee742",
     "grade": false,
     "grade_id": "cell-89184625242b6dad",
     "locked": false,
     "schema_version": 3,
     "solution": true,
     "task": false
    }
   },
   "outputs": [],
   "source": [
    "# VOTRE CODE"
   ]
  },
  {
   "cell_type": "code",
   "execution_count": null,
   "id": "3566ef74",
   "metadata": {
    "deletable": false,
    "editable": false,
    "nbgrader": {
     "cell_type": "code",
     "checksum": "592d0553aae533fedaa4c2845f2b2fe3",
     "grade": true,
     "grade_id": "cell-6960dc491819247f",
     "locked": true,
     "points": 3,
     "schema_version": 3,
     "solution": false,
     "task": false
    }
   },
   "outputs": [],
   "source": [
    "# Cellule d'évaluation, ne pas modifier"
   ]
  },
  {
   "cell_type": "markdown",
   "id": "515429c3",
   "metadata": {},
   "source": [
    "Que calcule la requête suivante ?"
   ]
  },
  {
   "cell_type": "markdown",
   "id": "c3805221",
   "metadata": {},
   "source": [
    "![](https://info-tsi-vieljeux.github.io/requetemystere.pdf)"
   ]
  },
  {
   "cell_type": "markdown",
   "id": "31a4d473",
   "metadata": {
    "deletable": false,
    "editable": false,
    "nbgrader": {
     "cell_type": "markdown",
     "checksum": "2f34bad59a5fec10609fb3935ba9a747",
     "grade": false,
     "grade_id": "cell-cb79f9dd94ce07ec",
     "locked": true,
     "schema_version": 3,
     "solution": false,
     "task": false
    }
   },
   "source": [
    "Vous écrirez votre réponse dans la cellule suivante.<br>\n",
    "La requête contient des petites erreurs. Les identifier et proposer des corrections (toujours dans la cellule suivante)."
   ]
  },
  {
   "cell_type": "markdown",
   "id": "7e1dda9f",
   "metadata": {
    "deletable": false,
    "nbgrader": {
     "cell_type": "markdown",
     "checksum": "e64d2ecbbaeee0f7723a516b2cbc0108",
     "grade": true,
     "grade_id": "cell-8d4b34b289393ec4",
     "locked": false,
     "points": 3,
     "schema_version": 3,
     "solution": true,
     "task": false
    }
   },
   "source": [
    "VOTRE REPONSE"
   ]
  },
  {
   "cell_type": "code",
   "execution_count": null,
   "id": "52f047bd",
   "metadata": {
    "deletable": false,
    "editable": false,
    "nbgrader": {
     "cell_type": "code",
     "checksum": "4afcb8d30c7345747cdc5136ac7b2491",
     "grade": true,
     "grade_id": "cell-324f566c2d8bbbb9",
     "locked": true,
     "points": 0,
     "schema_version": 3,
     "solution": false,
     "task": false
    }
   },
   "outputs": [],
   "source": [
    "# Erreurs :\n",
    "# faute de frappe to_tmps à la fin\n",
    "# bugue car nécessite de préciser dans quelle table prendre les ci_id (même si c'est les mêmes)\n",
    "# bizarre de grouper par ci_id, ci_nom...  Un seul des deux suffit !"
   ]
  },
  {
   "cell_type": "code",
   "execution_count": null,
   "id": "2fdf82c2",
   "metadata": {
    "deletable": false,
    "nbgrader": {
     "cell_type": "code",
     "checksum": "e42e4864bb5ea5dba2ad06d1763ed7de",
     "grade": false,
     "grade_id": "cell-f7aa3ed4005300d5",
     "locked": false,
     "schema_version": 3,
     "solution": true,
     "task": false
    }
   },
   "outputs": [],
   "source": [
    "# VOTRE CODE"
   ]
  }
 ],
 "metadata": {
  "kernelspec": {
   "display_name": "Python 3",
   "language": "python",
   "name": "python3"
  },
  "language_info": {
   "codemirror_mode": {
    "name": "ipython",
    "version": 3
   },
   "file_extension": ".py",
   "mimetype": "text/x-python",
   "name": "python",
   "nbconvert_exporter": "python",
   "pygments_lexer": "ipython3",
   "version": "3.8.13"
  }
 },
 "nbformat": 4,
 "nbformat_minor": 5
}
